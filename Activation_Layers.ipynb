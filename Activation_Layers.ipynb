{
 "cells": [
  {
   "cell_type": "markdown",
   "metadata": {},
   "source": [
    "# 활성화함수 계층 구현하기"
   ]
  },
  {
   "cell_type": "markdown",
   "metadata": {},
   "source": [
    "### ReLU Layer  \n",
    "\n",
    "$ y = \\begin{cases}x & (x>0) \\\\ 0 & (x\\le0)  \\end{cases}$  \n",
    "$ \\frac{\\partial{y}}{\\partial{x}} = \\begin{cases}1 & (x>0) \\\\ 0 & (x\\le0)  \\end{cases}$\n",
    "\n",
    "<img src=\"img/fig 5-18.png\">"
   ]
  },
  {
   "cell_type": "code",
   "execution_count": 1,
   "metadata": {},
   "outputs": [],
   "source": [
    "class Relu:\n",
    "    def __init__(self):\n",
    "        self.mask = None\n",
    "        \n",
    "    def forward(self, x):\n",
    "        self.mask = (x <= 0)\n",
    "        out = x.copy()\n",
    "        out[self.mask] = 0\n",
    "        \n",
    "        return out\n",
    "    \n",
    "    def backward(self, dout):\n",
    "        dout[self.mask] = 0\n",
    "        dx = dout\n",
    "        \n",
    "        return dx"
   ]
  },
  {
   "cell_type": "code",
   "execution_count": 2,
   "metadata": {},
   "outputs": [
    {
     "name": "stdout",
     "output_type": "stream",
     "text": [
      "[[ 1.  -0.5]\n",
      " [-2.   3. ]]\n",
      "[[False  True]\n",
      " [ True False]]\n",
      "[[1. 0.]\n",
      " [0. 3.]]\n"
     ]
    }
   ],
   "source": [
    "#참고 : mask는 T/F 마킹\n",
    "import numpy as np\n",
    "\n",
    "x = np.array([[1.0, -0.5], [-2.0, 3.0]])\n",
    "print(x)\n",
    "\n",
    "mask = (x <= 0)\n",
    "print(mask)\n",
    "\n",
    "x[mask] = 0\n",
    "print(x)"
   ]
  },
  {
   "cell_type": "markdown",
   "metadata": {},
   "source": [
    "### Sigmoid Layer  \n",
    "$ y = \\frac{1}{1 + \\exp (-x)} $  \n",
    "<img src=\"img/fig 5-19.png\">"
   ]
  },
  {
   "cell_type": "markdown",
   "metadata": {},
   "source": [
    "#### 1단계\n",
    "$ y = \\frac{1}{x} $  \n",
    "$ \\frac{\\partial y}{\\partial x} = -\\frac{1}{x^2} = -y^2$  \n",
    "\n",
    "#### 2단계  \n",
    "$ y = x + 1$  \n",
    "$ \\frac{\\partial y}{\\partial x} = 1$  \n",
    "#### 3단계  \n",
    "$ y = \\exp x$  \n",
    "$ \\frac{\\partial y}{\\partial x} = \\exp x $  \n",
    "#### 4단계  \n",
    "$ y = -1 * x $  \n",
    "$ \\frac{\\partial y}{\\partial x} = -1 $  \n",
    "<img src=\"img/fig 5-20.png\">  \n",
    "\n",
    "#### 1, 2, 3, 4 단계 합치기\n",
    "$ \\frac{\\partial y}{\\partial x} = y^2 * \\exp (-x)$  \n",
    "<img src=\"img/fig 5-21.png\">  \n",
    "\n",
    "#### 마지막으로 정리하기  \n",
    "$ \\frac{\\partial y}{\\partial x} = y^2 * \\exp (-x) = y(1-y)$  \n",
    "<img src=\"img/fig 5-22.png\">  \n",
    "왜냐면 여기서 $ y = \\frac{1}{1 + \\exp (-x)} $라서 풀어헤치면 위처럼 됨!"
   ]
  },
  {
   "cell_type": "code",
   "execution_count": 3,
   "metadata": {},
   "outputs": [],
   "source": [
    "class Sigmoid:\n",
    "    def __init__(self):\n",
    "        self.out = None\n",
    "        \n",
    "    def forward(self, x):\n",
    "        out = 1 / (1 + np.exp(-x))\n",
    "        self.out = out\n",
    "        \n",
    "        return out\n",
    "    \n",
    "    def backward(self, dout):\n",
    "        dx = dout * (1 - self.out) * self.out\n",
    "        \n",
    "        return dx"
   ]
  },
  {
   "cell_type": "code",
   "execution_count": null,
   "metadata": {},
   "outputs": [],
   "source": []
  }
 ],
 "metadata": {
  "kernelspec": {
   "display_name": "Python 3",
   "language": "python",
   "name": "python3"
  },
  "language_info": {
   "codemirror_mode": {
    "name": "ipython",
    "version": 3
   },
   "file_extension": ".py",
   "mimetype": "text/x-python",
   "name": "python",
   "nbconvert_exporter": "python",
   "pygments_lexer": "ipython3",
   "version": "3.6.4"
  }
 },
 "nbformat": 4,
 "nbformat_minor": 2
}
